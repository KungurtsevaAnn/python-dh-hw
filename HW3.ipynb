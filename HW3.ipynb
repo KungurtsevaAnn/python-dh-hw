{
 "cells": [
  {
   "cell_type": "code",
   "execution_count": 1,
   "metadata": {},
   "outputs": [],
   "source": [
    "#Задание 1 \n",
    "#Скачайте текст \"Литературных анекдотов\". Напишите функцию, которая будет читать файл, лемматизировать текст с помощью pymystem3 и записывать результат в новый файл. У функции должно бы два аргумента: путь к исходному файлу и путь к файлу с лемматизированным текстом. Вызов функции тоже должен быть прописан в решении.\n",
    "from pymystem3 import Mystem\n",
    "\n",
    "with open('literary_anecdotes.txt', 'r', encoding='utf-8') as f:\n",
    "    text = f.read()\n",
    "from string import punctuation\n",
    "punctuation += \"’‘\"\n",
    "n = [w.strip(punctuation) for w in text.split()]\n",
    "m = [w for w in n if w != \"-\"]\n",
    "\n",
    "with open('literary_new.txt', 'w') as f:\n",
    "    f.write(' '.join(m))"
   ]
  },
  {
   "cell_type": "code",
   "execution_count": 2,
   "metadata": {},
   "outputs": [],
   "source": [
    "s = ' '.join(m)\n",
    "with open('literary_new.txt', 'w') as f:\n",
    "    f.write(s.lower())"
   ]
  },
  {
   "cell_type": "code",
   "execution_count": 3,
   "metadata": {},
   "outputs": [],
   "source": [
    "text = s.lower()"
   ]
  },
  {
   "cell_type": "code",
   "execution_count": 4,
   "metadata": {},
   "outputs": [],
   "source": [
    "m = Mystem()\n",
    "lemmas = m.lemmatize(text)\n",
    "\n",
    "s = (''.join(lemmas))\n",
    "with open('literary_anecdotes_lemmas.txt', 'w', encoding = 'utf-8') as f:\n",
    "    f.write(s)"
   ]
  },
  {
   "cell_type": "code",
   "execution_count": 9,
   "metadata": {},
   "outputs": [],
   "source": [
    "#Задание 2\n",
    "#Очистите лемматизированный текст от стоп-слов и посчитайте ipm для оставшихся. Выведите 20 самых частотных по этому параметру слов.\n",
    "with open ('rus_stopwords.txt', 'r', encoding='utf-8') as f:\n",
    "    stopwords = f.read()\n",
    "a = stopwords.split()\n",
    "text = s.split()\n",
    "word_list = []\n",
    "filtered_words = [w for w in text if w not in a]\n",
    "\n",
    "#Выведите 20 самых частотных по этому параметру слов.\n",
    "from collections import Counter \n",
    "counts = Counter(filtered_words)\n",
    "\n",
    "ipm = {}\n",
    "for b, c in counts.items():\n",
    "    ipm[b] = (c/len(text)*1000000)"
   ]
  },
  {
   "cell_type": "code",
   "execution_count": 10,
   "metadata": {},
   "outputs": [
    {
     "name": "stdout",
     "output_type": "stream",
     "text": [
      "[('пушкин', 21353.60115816142), ('гоголь', 11219.688744118712), ('однажды', 10495.837857401375), ('толстой', 9410.061527325372), ('лев', 9048.136083966703), ('любить', 7238.508867173362), ('достоевский', 7238.508867173362), ('тургенев', 5790.80709373869), ('ребенок', 5428.881650380022), ('царствие', 5428.881650380022), ('небесный', 5428.881650380022), ('окно', 4343.105320304017), ('тверской', 4343.105320304017), ('бульвар', 4343.105320304017), ('приходить', 4343.105320304017), ('лермонтов', 4343.105320304017), ('федор', 3981.1798769453494), ('михайлович', 3981.1798769453494), ('идти', 3619.254433586681), ('герцен', 3619.254433586681)]\n"
     ]
    }
   ],
   "source": [
    "ipm_most_common = sorted(ipm.items(), key=lambda x: x[1], reverse=True)\n",
    "print(ipm_most_common[:20])"
   ]
  },
  {
   "cell_type": "code",
   "execution_count": 12,
   "metadata": {},
   "outputs": [],
   "source": [
    "#Задание 3. Сделайте полный морфологический разбор исходного текста. Напишите регулярное выражение, которое будет извлекать из тега только часть речи. Пройдитесь циклом по списку с разборами, который выдал pymystem3, извлекая из каждого разбора форму слова и его часть речи и записывая их в новый словарь (форма -- ключ, часть речи -- значение). Посчитайте абсолютную частоту для всех частей речи, а затем относительнную частоту (абсолютная частота / длина текста в словах).\n",
    "# Сделайте полный морфологический разбор исходного текста.\n",
    "from pymystem3 import Mystem\n",
    "with open('literary_anecdotes.txt', 'r', encoding='utf-8') as f:\n",
    "    text = f.read()\n",
    "    m = Mystem()\n",
    "    z = m.analyze(s)"
   ]
  },
  {
   "cell_type": "code",
   "execution_count": 15,
   "metadata": {},
   "outputs": [],
   "source": [
    "words = {}\n",
    "for w in z:\n",
    "    try:\n",
    "        gr = w['analysis'][0]['gr']\n",
    "        pos = gr.split('=')[0].split(',')[0]\n",
    "    except (KeyError, IndexError) as e :\n",
    "        pass\n",
    "\n",
    "vocab_pos = {}\n",
    "for b, c in words.items():\n",
    "    vocab_pos[b] = pos.match(c).group(0)"
   ]
  },
  {
   "cell_type": "code",
   "execution_count": null,
   "metadata": {},
   "outputs": [],
   "source": []
  }
 ],
 "metadata": {
  "kernelspec": {
   "display_name": "Python 3",
   "language": "python",
   "name": "python3"
  },
  "language_info": {
   "codemirror_mode": {
    "name": "ipython",
    "version": 3
   },
   "file_extension": ".py",
   "mimetype": "text/x-python",
   "name": "python",
   "nbconvert_exporter": "python",
   "pygments_lexer": "ipython3",
   "version": "3.7.0"
  }
 },
 "nbformat": 4,
 "nbformat_minor": 2
}
