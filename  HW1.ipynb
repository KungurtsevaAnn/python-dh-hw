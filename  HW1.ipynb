{
 "cells": [
  {
   "cell_type": "code",
   "execution_count": 4,
   "metadata": {},
   "outputs": [
    {
     "name": "stdout",
     "output_type": "stream",
     "text": [
      "3\n",
      "    _~_        _~_        _~_    \n",
      "   (o o)      (o o)      (o o)   \n",
      "  /  V  \\    /  V  \\    /  V  \\  \n",
      " /(  _  )\\  /(  _  )\\  /(  _  )\\ \n",
      "   ^^ ^^      ^^ ^^      ^^ ^^   \n"
     ]
    }
   ],
   "source": [
    "p = int(input())\n",
    "a = '    _~_    '\n",
    "b = '   (o o)   '\n",
    "c = '  /  V  \\  '\n",
    "d = ' /(  _  )\\ '\n",
    "e = '   ^^ ^^   '\n",
    " \n",
    "print(a*p)\n",
    "print(b*p)\n",
    "print(c*p)\n",
    "print(d*p)\n",
    "print(e*p)\n"
   ]
  },
  {
   "cell_type": "code",
   "execution_count": 3,
   "metadata": {},
   "outputs": [
    {
     "name": "stdout",
     "output_type": "stream",
     "text": [
      "введите строку: Онтология и теория познания\n",
      "Количество слов: 4\n",
      "Количество символов: 27\n"
     ]
    }
   ],
   "source": [
    "sentence = input(\"введите строку: \")\n",
    "\n",
    "words = sentence.split()\n",
    "\n",
    "print(\"Количество слов:\", len(words))\n",
    "print(\"Количество символов:\", len(sentence))"
   ]
  },
  {
   "cell_type": "code",
   "execution_count": 34,
   "metadata": {},
   "outputs": [
    {
     "name": "stdout",
     "output_type": "stream",
     "text": [
      "т\n",
      "и\n",
      "Онтол\n",
      "Онтология и теория познан\n",
      "Отлгяитои оння\n",
      "ноои  еряпзаи\n",
      "яинанзоп яироет и яиголотнО\n",
      "янно иотияглтО\n",
      "27\n"
     ]
    }
   ],
   "source": [
    "s = 'Онтология и теория познания'\n",
    "print(s[2])\n",
    "print(s[-2])\n",
    "print(s[0:5])\n",
    "print(s[0:-2])\n",
    "print(s[0::2])   \n",
    "print(s[1::2])\n",
    "print(s[::-1])\n",
    "print(s[-1::-2])\n",
    "print(len(s))"
   ]
  },
  {
   "cell_type": "code",
   "execution_count": null,
   "metadata": {},
   "outputs": [],
   "source": []
  }
 ],
 "metadata": {
  "kernelspec": {
   "display_name": "Python 3",
   "language": "python",
   "name": "python3"
  },
  "language_info": {
   "codemirror_mode": {
    "name": "ipython",
    "version": 3
   },
   "file_extension": ".py",
   "mimetype": "text/x-python",
   "name": "python",
   "nbconvert_exporter": "python",
   "pygments_lexer": "ipython3",
   "version": "3.7.0"
  }
 },
 "nbformat": 4,
 "nbformat_minor": 2
}
