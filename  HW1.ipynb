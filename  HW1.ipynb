{
 "cells": [
  {
   "cell_type": "code",
   "execution_count": null,
   "metadata": {},
   "outputs": [],
   "source": [
    "p = int(input())\n",
    "a = '    _~_    '\n",
    "b = '   (o o)   '\n",
    "c = '  /  V  \\  '\n",
    "d = ' /(  _  )\\ '\n",
    "e = '   ^^ ^^   '\n",
    " \n",
    "print(a*p)\n",
    "print(b*p)\n",
    "print(c*p)\n",
    "print(d*p)\n",
    "print(e*p)\n"
   ]
  },
  {
   "cell_type": "code",
   "execution_count": null,
   "metadata": {},
   "outputs": [],
   "source": [
    "sentence = input(\"введите строку: \")\n",
    "\n",
    "words = sentence.split()\n",
    "print(\"Количество слов:\", len(words))\n",
    "print(\"Количество символов:\", len(sentence))"
   ]
  },
  {
   "cell_type": "code",
   "execution_count": null,
   "metadata": {},
   "outputs": [],
   "source": []
  },
  {
   "cell_type": "code",
   "execution_count": null,
   "metadata": {},
   "outputs": [],
   "source": []
  }
 ],
 "metadata": {
  "kernelspec": {
   "display_name": "Python 3",
   "language": "python",
   "name": "python3"
  },
  "language_info": {
   "codemirror_mode": {
    "name": "ipython",
    "version": 3
   },
   "file_extension": ".py",
   "mimetype": "text/x-python",
   "name": "python",
   "nbconvert_exporter": "python",
   "pygments_lexer": "ipython3",
   "version": "3.7.0"
  }
 },
 "nbformat": 4,
 "nbformat_minor": 2
}
